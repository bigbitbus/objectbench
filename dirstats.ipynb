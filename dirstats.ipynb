{
 "cells": [
  {
   "cell_type": "code",
   "execution_count": 28,
   "metadata": {},
   "outputs": [],
   "source": [
    "# Get file size distribution\n",
    "import sys\n",
    "import os\n",
    "import pandas as pd\n",
    "\n",
    "dictFileStats = {}\n",
    "from os.path import join, getsize\n",
    "\n",
    "if len(sys.argv) == 2:\n",
    "    rootDir = sys.argv[1]\n",
    "else:\n",
    "    rootDir = '/root/throwaway/linux-4.16.12'\n",
    "\n",
    "for root, dirs, files in os.walk(rootDir):\n",
    "    for name in files:\n",
    "        filePath = join(root,name)\n",
    "        dictFileStats[filePath] = getsize(filePath)\n",
    "\n"
   ]
  },
  {
   "cell_type": "code",
   "execution_count": 29,
   "metadata": {},
   "outputs": [],
   "source": [
    "ser_fileSizes  = pd.Series(dictFileStats)"
   ]
  },
  {
   "cell_type": "code",
   "execution_count": 30,
   "metadata": {},
   "outputs": [
    {
     "data": {
      "text/plain": [
       "/root/throwaway/linux-4.16.12/.cocciconfig                                                      59\n",
       "/root/throwaway/linux-4.16.12/.get_maintainer.ignore                                            31\n",
       "/root/throwaway/linux-4.16.12/.gitattributes                                                    30\n",
       "/root/throwaway/linux-4.16.12/.gitignore                                                      1571\n",
       "/root/throwaway/linux-4.16.12/.mailmap                                                        9142\n",
       "/root/throwaway/linux-4.16.12/COPYING                                                        18693\n",
       "/root/throwaway/linux-4.16.12/CREDITS                                                        98556\n",
       "/root/throwaway/linux-4.16.12/Documentation/.gitignore                                          13\n",
       "/root/throwaway/linux-4.16.12/Documentation/00-INDEX                                         15136\n",
       "/root/throwaway/linux-4.16.12/Documentation/ABI/README                                        3821\n",
       "/root/throwaway/linux-4.16.12/Documentation/ABI/obsolete/sysfs-bus-usb                        1296\n",
       "/root/throwaway/linux-4.16.12/Documentation/ABI/obsolete/sysfs-driver-hid-roccat-arvo         2892\n",
       "/root/throwaway/linux-4.16.12/Documentation/ABI/obsolete/sysfs-driver-hid-roccat-isku         8101\n",
       "/root/throwaway/linux-4.16.12/Documentation/ABI/obsolete/sysfs-driver-hid-roccat-koneplus     8003\n",
       "/root/throwaway/linux-4.16.12/Documentation/ABI/obsolete/sysfs-driver-hid-roccat-konepure     5616\n",
       "/root/throwaway/linux-4.16.12/Documentation/ABI/obsolete/sysfs-driver-hid-roccat-kovaplus     6315\n",
       "/root/throwaway/linux-4.16.12/Documentation/ABI/obsolete/sysfs-driver-hid-roccat-lua           372\n",
       "/root/throwaway/linux-4.16.12/Documentation/ABI/obsolete/sysfs-driver-hid-roccat-pyra         6376\n",
       "/root/throwaway/linux-4.16.12/Documentation/ABI/obsolete/sysfs-driver-hid-roccat-ryos         9380\n",
       "/root/throwaway/linux-4.16.12/Documentation/ABI/obsolete/sysfs-driver-hid-roccat-savu         4062\n",
       "/root/throwaway/linux-4.16.12/Documentation/ABI/obsolete/sysfs-firmware-acpi                   384\n",
       "/root/throwaway/linux-4.16.12/Documentation/ABI/obsolete/sysfs-gpio                           1325\n",
       "/root/throwaway/linux-4.16.12/Documentation/ABI/removed/devfs                                  471\n",
       "/root/throwaway/linux-4.16.12/Documentation/ABI/removed/dv1394                                 664\n",
       "/root/throwaway/linux-4.16.12/Documentation/ABI/removed/ip_queue                               310\n",
       "/root/throwaway/linux-4.16.12/Documentation/ABI/removed/net_dma                                339\n",
       "/root/throwaway/linux-4.16.12/Documentation/ABI/removed/o2cb                                   449\n",
       "/root/throwaway/linux-4.16.12/Documentation/ABI/removed/raw1394                                663\n",
       "/root/throwaway/linux-4.16.12/Documentation/ABI/removed/sysfs-class-rfkill                     488\n",
       "/root/throwaway/linux-4.16.12/Documentation/ABI/removed/video1394                              751\n",
       "                                                                                             ...  \n",
       "/root/throwaway/linux-4.16.12/virt/kvm/arm/pmu.c                                             15373\n",
       "/root/throwaway/linux-4.16.12/virt/kvm/arm/psci.c                                            12107\n",
       "/root/throwaway/linux-4.16.12/virt/kvm/arm/trace.h                                            6258\n",
       "/root/throwaway/linux-4.16.12/virt/kvm/arm/vgic/trace.h                                        884\n",
       "/root/throwaway/linux-4.16.12/virt/kvm/arm/vgic/vgic-debug.c                                  6555\n",
       "/root/throwaway/linux-4.16.12/virt/kvm/arm/vgic/vgic-init.c                                  13748\n",
       "/root/throwaway/linux-4.16.12/virt/kvm/arm/vgic/vgic-irqfd.c                                  3310\n",
       "/root/throwaway/linux-4.16.12/virt/kvm/arm/vgic/vgic-its.c                                   66206\n",
       "/root/throwaway/linux-4.16.12/virt/kvm/arm/vgic/vgic-kvm-device.c                            15907\n",
       "/root/throwaway/linux-4.16.12/virt/kvm/arm/vgic/vgic-mmio-v2.c                               13364\n",
       "/root/throwaway/linux-4.16.12/virt/kvm/arm/vgic/vgic-mmio-v3.c                               25775\n",
       "/root/throwaway/linux-4.16.12/virt/kvm/arm/vgic/vgic-mmio.c                                  21850\n",
       "/root/throwaway/linux-4.16.12/virt/kvm/arm/vgic/vgic-mmio.h                                   6982\n",
       "/root/throwaway/linux-4.16.12/virt/kvm/arm/vgic/vgic-v2.c                                    12489\n",
       "/root/throwaway/linux-4.16.12/virt/kvm/arm/vgic/vgic-v3.c                                    16662\n",
       "/root/throwaway/linux-4.16.12/virt/kvm/arm/vgic/vgic-v4.c                                    10672\n",
       "/root/throwaway/linux-4.16.12/virt/kvm/arm/vgic/vgic.c                                       24860\n",
       "/root/throwaway/linux-4.16.12/virt/kvm/arm/vgic/vgic.h                                        9698\n",
       "/root/throwaway/linux-4.16.12/virt/kvm/async_pf.c                                             5968\n",
       "/root/throwaway/linux-4.16.12/virt/kvm/async_pf.h                                             1126\n",
       "/root/throwaway/linux-4.16.12/virt/kvm/coalesced_mmio.c                                       4251\n",
       "/root/throwaway/linux-4.16.12/virt/kvm/coalesced_mmio.h                                        884\n",
       "/root/throwaway/linux-4.16.12/virt/kvm/eventfd.c                                             23043\n",
       "/root/throwaway/linux-4.16.12/virt/kvm/irqchip.c                                              6280\n",
       "/root/throwaway/linux-4.16.12/virt/kvm/kvm_main.c                                            97591\n",
       "/root/throwaway/linux-4.16.12/virt/kvm/vfio.c                                                 9110\n",
       "/root/throwaway/linux-4.16.12/virt/kvm/vfio.h                                                  289\n",
       "/root/throwaway/linux-4.16.12/virt/lib/Kconfig                                                  36\n",
       "/root/throwaway/linux-4.16.12/virt/lib/Makefile                                                 48\n",
       "/root/throwaway/linux-4.16.12/virt/lib/irqbypass.c                                            6116\n",
       "Length: 62908, dtype: int64"
      ]
     },
     "execution_count": 30,
     "metadata": {},
     "output_type": "execute_result"
    }
   ],
   "source": [
    "ser_fileSizes"
   ]
  },
  {
   "cell_type": "code",
   "execution_count": 38,
   "metadata": {},
   "outputs": [
    {
     "name": "stdout",
     "output_type": "stream",
     "text": [
      "count    6.290800e+04\n",
      "mean     1.248228e+04\n",
      "std      9.156178e+04\n",
      "min      0.000000e+00\n",
      "25%      1.382000e+03\n",
      "50%      3.973500e+03\n",
      "75%      1.122200e+04\n",
      "max      1.415147e+07\n",
      "dtype: float64\n"
     ]
    }
   ],
   "source": [
    "print (ser_fileSizes.describe())"
   ]
  },
  {
   "cell_type": "code",
   "execution_count": 36,
   "metadata": {},
   "outputs": [],
   "source": [
    "\n"
   ]
  },
  {
   "cell_type": "code",
   "execution_count": 39,
   "metadata": {},
   "outputs": [
    {
     "name": "stdout",
     "output_type": "stream",
     "text": [
      "[62900     3     1     0     2     0     0     0     0     2]\n"
     ]
    }
   ],
   "source": [
    "print (count)"
   ]
  },
  {
   "cell_type": "code",
   "execution_count": null,
   "metadata": {},
   "outputs": [],
   "source": []
  }
 ],
 "metadata": {
  "kernelspec": {
   "display_name": "Python 3",
   "language": "python",
   "name": "python3"
  },
  "language_info": {
   "codemirror_mode": {
    "name": "ipython",
    "version": 3
   },
   "file_extension": ".py",
   "mimetype": "text/x-python",
   "name": "python",
   "nbconvert_exporter": "python",
   "pygments_lexer": "ipython3",
   "version": "3.6.5"
  }
 },
 "nbformat": 4,
 "nbformat_minor": 2
}
